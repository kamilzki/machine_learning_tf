{
 "cells": [
  {
   "cell_type": "code",
   "execution_count": 1,
   "metadata": {
    "colab": {
     "base_uri": "https://localhost:8080/",
     "height": 73
    },
    "id": "Gsq6Fvr9lU1e",
    "outputId": "5be199b8-43f5-4132-fbb8-873eaa89aaf6"
   },
   "outputs": [
    {
     "ename": "ModuleNotFoundError",
     "evalue": "No module named 'seaborn'",
     "output_type": "error",
     "traceback": [
      "\u001b[1;31m---------------------------------------------------------------------------\u001b[0m",
      "\u001b[1;31mModuleNotFoundError\u001b[0m                       Traceback (most recent call last)",
      "\u001b[1;32m<ipython-input-1-e1e067afa692>\u001b[0m in \u001b[0;36m<module>\u001b[1;34m\u001b[0m\n\u001b[0;32m      3\u001b[0m \u001b[1;32mimport\u001b[0m \u001b[0mnumpy\u001b[0m \u001b[1;32mas\u001b[0m \u001b[0mnp\u001b[0m\u001b[1;33m\u001b[0m\u001b[1;33m\u001b[0m\u001b[0m\n\u001b[0;32m      4\u001b[0m \u001b[1;32mimport\u001b[0m \u001b[0mmatplotlib\u001b[0m\u001b[1;33m.\u001b[0m\u001b[0mpyplot\u001b[0m \u001b[1;32mas\u001b[0m \u001b[0mplt\u001b[0m\u001b[1;33m\u001b[0m\u001b[1;33m\u001b[0m\u001b[0m\n\u001b[1;32m----> 5\u001b[1;33m \u001b[1;32mimport\u001b[0m \u001b[0mseaborn\u001b[0m \u001b[1;32mas\u001b[0m \u001b[0msns\u001b[0m\u001b[1;33m\u001b[0m\u001b[1;33m\u001b[0m\u001b[0m\n\u001b[0m",
      "\u001b[1;31mModuleNotFoundError\u001b[0m: No module named 'seaborn'"
     ]
    }
   ],
   "source": [
    "import tensorflow as tf\n",
    "from tensorflow import keras\n",
    "import numpy as np\n",
    "import matplotlib.pyplot as plt\n",
    "import seaborn as sns"
   ]
  },
  {
   "cell_type": "code",
   "execution_count": null,
   "metadata": {
    "colab": {
     "base_uri": "https://localhost:8080/",
     "height": 53
    },
    "id": "2bvCbqVLlp3v",
    "outputId": "ae072773-4980-4267-8712-e6da46b54980"
   },
   "outputs": [],
   "source": [
    "data = keras.datasets.mnist.load_data()"
   ]
  },
  {
   "cell_type": "code",
   "execution_count": null,
   "metadata": {
    "colab": {
     "base_uri": "https://localhost:8080/",
     "height": 35
    },
    "id": "v5hdYagfmGz-",
    "outputId": "5bca9a14-918d-4169-bb10-0fca1dbc29be"
   },
   "outputs": [],
   "source": [
    "(train_images, train_labels), (test_images, test_labels) = data\n",
    "train_images.shape"
   ]
  },
  {
   "cell_type": "code",
   "execution_count": null,
   "metadata": {
    "colab": {
     "base_uri": "https://localhost:8080/",
     "height": 35
    },
    "id": "lih8gojqmUFP",
    "outputId": "f7d85f6b-c701-4910-9f8b-b36cb51f6b4d"
   },
   "outputs": [],
   "source": [
    "labels = np.unique(train_labels)\n",
    "print(labels)"
   ]
  },
  {
   "cell_type": "code",
   "execution_count": null,
   "metadata": {
    "colab": {
     "base_uri": "https://localhost:8080/",
     "height": 35
    },
    "id": "fkOkl0f_n0kM",
    "outputId": "0f4f2a35-753f-4990-9968-056c32799362"
   },
   "outputs": [],
   "source": [
    "train_images"
   ]
  },
  {
   "cell_type": "code",
   "execution_count": null,
   "metadata": {
    "colab": {
     "base_uri": "https://localhost:8080/",
     "height": 255
    },
    "id": "NAfCwOlhnUG5",
    "outputId": "307bc17d-6c68-4530-cf03-572eaa406a02"
   },
   "outputs": [],
   "source": [
    "nrows = 2\n",
    "ncols = 4\n",
    "fig, ax = plt.subplots(nrows,ncols,sharex=True,sharey=True)\n",
    "for row in range(nrows):\n",
    "    for col in range(ncols):\n",
    "        rand_example = np.random.choice(len(train_images))\n",
    "        ax[row,col].imshow(train_images[rand_example].reshape((28,28)), cmap='gray_r')\n",
    "        ax[row,col].set_title(\"Label: {}\".format(train_labels[rand_example]))"
   ]
  },
  {
   "cell_type": "code",
   "execution_count": null,
   "metadata": {
    "colab": {
     "base_uri": "https://localhost:8080/",
     "height": 515
    },
    "id": "OCcR7hZnotMv",
    "outputId": "ffb405f4-f778-441e-c1ac-a7282aa29e24"
   },
   "outputs": [],
   "source": [
    "sns.countplot(train_labels)\n",
    "plt.show()\n",
    "sns.countplot(test_labels)\n",
    "plt.show()"
   ]
  },
  {
   "cell_type": "code",
   "execution_count": null,
   "metadata": {
    "colab": {
     "base_uri": "https://localhost:8080/",
     "height": 162
    },
    "id": "bWtSi4zTpW49",
    "outputId": "0bb59f5d-2dfd-4a67-b213-296a84002a8a"
   },
   "outputs": [],
   "source": [
    "from tensorflow.keras.utils import to_categorical\n",
    "# Encode labels to one hot vectors\n",
    "label_vectors = to_categorical(labels)\n",
    "print(label_vectors[3])\n",
    "\n",
    "# Normalize between 0 and 1 the data (The pixel-value is an integer between 0 and 255)\n",
    "print('test_images before', test_images[0][15])\n",
    "test_images = test_images / 255.0\n",
    "print('test_images after', test_images[0][15])\n",
    "\n",
    "train_images = train_images / 255.0"
   ]
  },
  {
   "cell_type": "code",
   "execution_count": null,
   "metadata": {
    "id": "1LTyyy-Krxq5"
   },
   "outputs": [],
   "source": [
    "model = keras.Sequential([\n",
    "    keras.layers.Flatten(input_shape=(28, 28)),  # input layer\n",
    "    keras.layers.Dense(128, activation='relu'),  # hidden layer (1)\n",
    "    keras.layers.Dense(10, activation='softmax') # output layer\n",
    "])"
   ]
  },
  {
   "cell_type": "code",
   "execution_count": null,
   "metadata": {
    "colab": {
     "base_uri": "https://localhost:8080/",
     "height": 271
    },
    "id": "a2i2LVAcsP33",
    "outputId": "3ee85943-4d6b-4660-c162-1c660122dcf3"
   },
   "outputs": [],
   "source": [
    "model.compile(optimizer='adam',\n",
    "              loss='sparse_categorical_crossentropy',\n",
    "              metrics=['accuracy'])\n",
    "model.summary()"
   ]
  },
  {
   "cell_type": "code",
   "execution_count": null,
   "metadata": {
    "colab": {
     "base_uri": "https://localhost:8080/",
     "height": 308
    },
    "id": "ejFqrB6SsX8A",
    "outputId": "4e402408-77ce-48f5-c4b2-236503901c36"
   },
   "outputs": [],
   "source": [
    "history = model.fit(train_images, train_labels, batch_size = 100, epochs = 8, \n",
    "          validation_data = (test_images, test_labels), verbose = 1)"
   ]
  },
  {
   "cell_type": "code",
   "execution_count": null,
   "metadata": {
    "colab": {
     "base_uri": "https://localhost:8080/",
     "height": 265
    },
    "id": "djURJluLtOdd",
    "outputId": "05680ca6-9828-4f06-a057-afc3c29b64d4"
   },
   "outputs": [],
   "source": [
    "# Plot the loss and accuracy curves for training and validation \n",
    "fig, ax = plt.subplots(2,1)\n",
    "ax[0].plot(history.history['loss'], color='b', label=\"Training loss\")\n",
    "ax[0].plot(history.history['val_loss'], color='r', label=\"validation loss\",axes =ax[0])\n",
    "legend = ax[0].legend(loc='best', shadow=True)\n",
    "\n",
    "ax[1].plot(history.history['accuracy'], color='b', label=\"Training accuracy\")\n",
    "ax[1].plot(history.history['val_accuracy'], color='r',label=\"Validation accuracy\")\n",
    "legend = ax[1].legend(loc='best', shadow=True)"
   ]
  },
  {
   "cell_type": "code",
   "execution_count": null,
   "metadata": {
    "id": "ZZKh6maJtpAm"
   },
   "outputs": [],
   "source": [
    "predictions = model.predict(train_images)"
   ]
  },
  {
   "cell_type": "code",
   "execution_count": null,
   "metadata": {
    "colab": {
     "base_uri": "https://localhost:8080/",
     "height": 90
    },
    "id": "4xJAri22trAn",
    "outputId": "cd2da113-e12a-409f-b8eb-5acf59db02a1"
   },
   "outputs": [],
   "source": [
    "pos = 0\n",
    "print(predictions[pos])\n",
    "print('Predicted:', np.argmax(predictions[pos]))\n",
    "print('Real label:', train_labels[pos])"
   ]
  },
  {
   "cell_type": "code",
   "execution_count": null,
   "metadata": {
    "colab": {
     "base_uri": "https://localhost:8080/",
     "height": 295
    },
    "id": "97yLg8KAtuAU",
    "outputId": "a888b6ce-3850-4895-b292-9b1ef1c34974"
   },
   "outputs": [],
   "source": [
    "def show_image(img, label, guess, position):\n",
    "  plt.figure()\n",
    "  plt.imshow(img, cmap=plt.cm.binary)\n",
    "  plt.title(f\"Excpected: {label} on position {position}\")\n",
    "  plt.xlabel(f\"Guess: {guess}\")\n",
    "  plt.colorbar()\n",
    "  plt.show()\n",
    "\n",
    "pos = np.random.choice(len(test_images))\n",
    "image = test_images[pos]\n",
    "prediction = model.predict(np.array([image]))\n",
    "\n",
    "show_image(image, test_labels[pos], labels[np.argmax(prediction)], pos)"
   ]
  }
 ],
 "metadata": {
  "colab": {
   "collapsed_sections": [],
   "name": "digits_NN.ipynb",
   "provenance": []
  },
  "kernelspec": {
   "display_name": "Python 3",
   "language": "python",
   "name": "python3"
  },
  "language_info": {
   "codemirror_mode": {
    "name": "ipython",
    "version": 3
   },
   "file_extension": ".py",
   "mimetype": "text/x-python",
   "name": "python",
   "nbconvert_exporter": "python",
   "pygments_lexer": "ipython3",
   "version": "3.8.6"
  }
 },
 "nbformat": 4,
 "nbformat_minor": 1
}
